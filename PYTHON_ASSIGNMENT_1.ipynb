{
  "nbformat": 4,
  "nbformat_minor": 0,
  "metadata": {
    "colab": {
      "provenance": []
    },
    "kernelspec": {
      "name": "python3",
      "display_name": "Python 3"
    },
    "language_info": {
      "name": "python"
    }
  },
  "cells": [
    {
      "cell_type": "markdown",
      "source": [
        "1.Explain the key features of Python that make it a popular choice for programming\n",
        "\n",
        "ans:\n",
        "1.Easy to Read and Write Syntax: Python's syntax is straightforward, making it relatively easy to learn for beginners. It emphasizes readability, allowing developers to write clear and concise code, often resembling pseudo-code.\n",
        "\n",
        "2.Dynamic Typing and Interpreted Language: Python is dynamically typed, meaning you don’t have to declare variable types explicitly. It is also an interpreted language, meaning code is executed line-by-line, which facilitates rapid development and debugging.\n",
        "\n",
        "3.Extensive Standard Library and Ecosystem: Python comes with a rich standard library, offering built-in modules and functions for tasks like web development, data manipulation, file handling, and more. Additionally, its vast ecosystem of third-party libraries and frameworks (e.g., Pandas, NumPy, Flask, TensorFlow) further extends its functionality.\n",
        "\n",
        "4.Cross-Platform Compatibility: Python code can run seamlessly on different operating systems (Windows, macOS, Linux) without requiring changes, making it highly portable.\n",
        "\n",
        "5.Strong Community Support: Python benefits from a large, active community. This results in abundant resources, tutorials, open-source libraries, and continuous improvements through contributions from developers around the world.\n",
        "\n",
        "6.Versatility: Python can be used for various applications, including web development, data science, artificial intelligence, machine learning, scripting, automation, scientific computing, and more. Its flexibility allows developers to use a single language for multiple types of projects.\n",
        "\n",
        "7.Object-Oriented and Functional Programming Support: Python supports multiple programming paradigms, including object-oriented, functional, and procedural programming. This makes it adaptable to various coding approaches and problem-solving methods.\n",
        "\n",
        "8.Integration Capabilities: Python integrates well with other languages like C, C++, and Java, which is useful for optimizing performance or leveraging existing codebases.\n",
        "\n",
        "9.Strong Frameworks for Web and App Development: Frameworks such as Django and Flask make it easier to develop web applications quickly and efficiently, providing built-in features for tasks like URL routing, database interaction, and more.\n",
        "\n",
        "These features collectively make Python a go-to language for both beginner programmers and seasoned professionals."
      ],
      "metadata": {
        "id": "tPPg_fq9Hk6c"
      }
    },
    {
      "cell_type": "markdown",
      "source": [
        "2.Describe the role of predefined keywords in Python and provide examples of how they are used in a program\n",
        "\n",
        "ans:\n",
        "In Python, predefined keywords (often called reserved words) are words that have special meanings and purposes in the language. These words are part of the language's syntax and cannot be used as variable names, function names, or any other identifiers. They are used to define the structure and behavior of Python code.\n",
        "\n",
        "Predefined keywords play various roles, such as:\n",
        "\n",
        "1.Defining control flow (e.g., if, elif, else, for, while): These keywords are used to control the flow of the program's execution.\n",
        "2.Defining functions and classes (e.g., def, class): Keywords like def and class are used to define functions and classes, respectively.\n",
        "3.Handling exceptions (e.g., try, except, finally): These keywords are used for error handling in Python programs.\n",
        "4.Defining data types (e.g., True, False, None): These keywords represent boolean values and the null value in Python.\n",
        "\n",
        "Examples of Predefined Keywords in Python Programs\n",
        "1.Control Flow Example (if-else)"
      ],
      "metadata": {
        "id": "l9YPhZTyH3qZ"
      }
    },
    {
      "cell_type": "code",
      "source": [
        "x = 10\n",
        "if x > 5:\n",
        "    print(\"x is greater than 5\")\n",
        "else:\n",
        "    print(\"x is less than or equal to 5\")\n"
      ],
      "metadata": {
        "colab": {
          "base_uri": "https://localhost:8080/"
        },
        "id": "uj-uzrtBIhva",
        "outputId": "3d810b34-b819-449d-9032-c301c33f76a4"
      },
      "execution_count": 2,
      "outputs": [
        {
          "output_type": "stream",
          "name": "stdout",
          "text": [
            "x is greater than 5\n"
          ]
        }
      ]
    },
    {
      "cell_type": "markdown",
      "source": [
        "Here, if and else are predefined keywords used to control the flow based on the condition x > 5.\n",
        "2.Function Definition (def)"
      ],
      "metadata": {
        "id": "oIdcmSxqJC2m"
      }
    },
    {
      "cell_type": "code",
      "source": [
        "def greet(name):\n",
        "    return f\"Hello, {name}!\"\n",
        "\n",
        "print(greet(\"Alice\"))\n"
      ],
      "metadata": {
        "id": "7LtFjHM9Jg-6"
      },
      "execution_count": null,
      "outputs": []
    },
    {
      "cell_type": "markdown",
      "source": [
        "The def keyword defines a function called greet.\n",
        "3.Loop Example (for)"
      ],
      "metadata": {
        "id": "ZYCp4TxvJpK3"
      }
    },
    {
      "cell_type": "code",
      "source": [
        "for i in range(5):\n",
        "    print(i)\n"
      ],
      "metadata": {
        "id": "dxrb-EXoJvKe"
      },
      "execution_count": null,
      "outputs": []
    },
    {
      "cell_type": "markdown",
      "source": [
        "The for keyword is used to create a loop that iterates over a sequence of numbers.\n",
        "4.Handling Exceptions (try-except)"
      ],
      "metadata": {
        "id": "sh1PpvRPJ1u8"
      }
    },
    {
      "cell_type": "code",
      "source": [
        "try:\n",
        "    result = 10 / 0\n",
        "except ZeroDivisionError:\n",
        "    print(\"Cannot divide by zero\")\n"
      ],
      "metadata": {
        "id": "xxANneodJ3kl"
      },
      "execution_count": null,
      "outputs": []
    },
    {
      "cell_type": "markdown",
      "source": [
        "The try and except keywords are used to handle potential runtime errors gracefully.\n",
        "\n",
        "5.Boolean Keywords (True, False)"
      ],
      "metadata": {
        "id": "P0uJcyuyJ9xg"
      }
    },
    {
      "cell_type": "code",
      "source": [
        "is_valid = True\n",
        "if is_valid:\n",
        "    print(\"The value is valid\")\n"
      ],
      "metadata": {
        "id": "oC3F3Mu6KUmK"
      },
      "execution_count": null,
      "outputs": []
    },
    {
      "cell_type": "markdown",
      "source": [
        "List of Some Common Python Keywords\n",
        "and, or, not: Logical operators\n",
        "import: Used to import modules\n",
        "return: Used to exit a function and optionally return a value\n",
        "break, continue: Used to control loop execution\n",
        "pass: Placeholder for future code\n",
        "in, is: Membership and identity operators\n",
        "Key Takeaways\n",
        "Predefined keywords cannot be used as identifiers (variable/function names).\n",
        "They define and control the structure of Python programs.\n",
        "They make the code easier to read and maintain, following specific syntax rules."
      ],
      "metadata": {
        "id": "YH0HW6rhKbA0"
      }
    },
    {
      "cell_type": "markdown",
      "source": [
        "3.Compare and contrast mutable and immutable objects in Python with examples\n",
        "\n",
        "\n",
        "In Python, objects can be categorized as mutable or immutable. This classification affects how the object behaves when modified.\n",
        "\n",
        "Mutable Objects\n",
        "Definition: Mutable objects can be modified after their creation. This means their values can be changed, or new elements can be added or removed.\n",
        "Examples: Lists, dictionaries, sets, and most user-defined objects.\n",
        "Behavior: When a mutable object is changed, the change is made in place without changing its identity (memory address).\n",
        "Example:"
      ],
      "metadata": {
        "id": "ok-ymnWXKgKi"
      }
    },
    {
      "cell_type": "code",
      "source": [
        "# Mutable example with a list\n",
        "my_list = [1, 2, 3]\n",
        "print(\"Original list:\", my_list)  # Output: [1, 2, 3]\n",
        "\n",
        "# Modifying the list (mutating it)\n",
        "my_list.append(4)\n",
        "print(\"Modified list:\", my_list)  # Output: [1, 2, 3, 4]\n"
      ],
      "metadata": {
        "id": "qdsLXbJsKyhI"
      },
      "execution_count": null,
      "outputs": []
    },
    {
      "cell_type": "markdown",
      "source": [
        "Here, my_list remains the same object, but its contents are modified.\n",
        "\n",
        "Immutable Objects\n",
        "Definition: Immutable objects cannot be changed after their creation. Any operation that alters the object's value results in the creation of a new object with a new memory address.\n",
        "Examples: Integers, floats, strings, tuples, frozen sets.\n",
        "Behavior: If you attempt to modify an immutable object, Python creates a new object instead of modifying the original.\n",
        "Example:"
      ],
      "metadata": {
        "id": "7e1Io1WbK1NU"
      }
    },
    {
      "cell_type": "code",
      "source": [
        "# Immutable example with a string\n",
        "my_string = \"hello\"\n",
        "print(\"Original string:\", my_string)  # Output: hello\n",
        "\n",
        "# Attempting to change the string\n",
        "new_string = my_string + \" world\"\n",
        "print(\"New string:\", new_string)      # Output: hello world\n",
        "print(\"Original string remains unchanged:\", my_string)  # Output: hello\n"
      ],
      "metadata": {
        "id": "2cC8qVOOK8_m"
      },
      "execution_count": null,
      "outputs": []
    },
    {
      "cell_type": "markdown",
      "source": [
        "Key Differences\n",
        "Modification:\n",
        "Mutable objects can be changed in place.\n",
        "Immutable objects cannot be changed in place; operations create a new object.\n",
        "Performance:\n",
        "Mutable objects can have performance advantages when changes are frequent since they don't create new objects.\n",
        "Immutable objects often offer better safety since they cannot be changed unexpectedly.\n",
        "Examples in Context:\n",
        "Lists (mutable) can be modified with operations like .append(), while tuples (immutable) require creating a new tuple if changes are needed.\n",
        "Example with Lists (Mutable) and Tuples (Immutable):"
      ],
      "metadata": {
        "id": "aplO2yhrLBna"
      }
    },
    {
      "cell_type": "code",
      "source": [
        "# Mutable list\n",
        "my_list = [1, 2, 3]\n",
        "my_list[0] = 10\n",
        "print(\"Modified list:\", my_list)  # Output: [10, 2, 3]\n",
        "\n",
        "# Immutable tuple\n",
        "my_tuple = (1, 2, 3)\n",
        "# Trying to modify the tuple would raise an error\n",
        "# my_tuple[0] = 10  # Uncommenting this would raise a TypeError\n"
      ],
      "metadata": {
        "id": "QE8BxfZdLDsg"
      },
      "execution_count": null,
      "outputs": []
    },
    {
      "cell_type": "markdown",
      "source": [
        "Use Cases\n",
        "Mutable objects are useful when frequent modifications are needed, such as for lists of dynamically changing elements.\n",
        "Immutable objects provide benefits in contexts where data consistency and integrity are crucial, like dictionary keys or constants."
      ],
      "metadata": {
        "id": "Hf8Z_oiXLGaR"
      }
    },
    {
      "cell_type": "markdown",
      "source": [
        "Q.4 Discuss the different types of operators in Python and provide examples of how they are used\n",
        "\n",
        "\n",
        "In Python, operators are special symbols or keywords used to perform operations on variables and values. They can be categorized into several types:\n",
        "\n",
        "1. Arithmetic Operators\n",
        "These are used to perform basic mathematical operations."
      ],
      "metadata": {
        "id": "ghQyz_M1LKeE"
      }
    },
    {
      "cell_type": "code",
      "source": [
        "x = 5 + 3  # Result: 8\n"
      ],
      "metadata": {
        "id": "bzOTrAjYLk0r"
      },
      "execution_count": null,
      "outputs": []
    },
    {
      "cell_type": "markdown",
      "source": [
        " (Subtraction): Subtracts the right-hand operand from the left-hand operand"
      ],
      "metadata": {
        "id": "0_ou2TEQLmvO"
      }
    },
    {
      "cell_type": "code",
      "source": [
        "y = 10 - 2  # Result: 8"
      ],
      "metadata": {
        "id": "IlKsITAiLqkW"
      },
      "execution_count": null,
      "outputs": []
    },
    {
      "cell_type": "markdown",
      "source": [
        "* (Multiplication): Multiplies two values.\n",
        "python\n",
        "Copy code\n"
      ],
      "metadata": {
        "id": "BNZ_2aWGLyBU"
      }
    },
    {
      "cell_type": "code",
      "source": [
        "z = 4 * 3  # Result: 12\n"
      ],
      "metadata": {
        "id": "w1x7F0WYLzIR"
      },
      "execution_count": null,
      "outputs": []
    },
    {
      "cell_type": "markdown",
      "source": [
        " (Division): Divides the left-hand operand by the right-hand operand"
      ],
      "metadata": {
        "id": "yHu6s1PpL1a3"
      }
    },
    {
      "cell_type": "code",
      "source": [
        "a = 12 / 4  # Result: 3.0\n"
      ],
      "metadata": {
        "id": "4WB1zmM8L5xZ"
      },
      "execution_count": null,
      "outputs": []
    },
    {
      "cell_type": "markdown",
      "source": [
        "// (Floor Division): Performs division and truncates the decimal part."
      ],
      "metadata": {
        "id": "B1LC2ICuL8TV"
      }
    },
    {
      "cell_type": "code",
      "source": [
        "b = 13 // 4  # Result: 3\n"
      ],
      "metadata": {
        "id": "uIwrjDaKMCes"
      },
      "execution_count": null,
      "outputs": []
    },
    {
      "cell_type": "markdown",
      "source": [
        "% (Modulus): Returns the remainder of the division"
      ],
      "metadata": {
        "id": "hxndsMgOMKXW"
      }
    },
    {
      "cell_type": "code",
      "source": [
        "c = 13 % 4  # Result: 1\n"
      ],
      "metadata": {
        "id": "31BgoHWPMLVk"
      },
      "execution_count": null,
      "outputs": []
    },
    {
      "cell_type": "markdown",
      "source": [
        "** (Exponentiation): Raises the left-hand operand to the power of the right-hand operand."
      ],
      "metadata": {
        "id": "KIdtxb07MN4O"
      }
    },
    {
      "cell_type": "code",
      "source": [
        "d = 2 ** 3  # Result: 8\n"
      ],
      "metadata": {
        "id": "Dy7pTI_RMSNw"
      },
      "execution_count": null,
      "outputs": []
    },
    {
      "cell_type": "markdown",
      "source": [
        "2. Comparison Operators\n",
        "These operators compare two values and return a Boolean result (True or False).\n",
        "\n",
        "== (Equal to)\n",
        "python\n",
        "Copy code\n"
      ],
      "metadata": {
        "id": "IsbYFK3VMUUW"
      }
    },
    {
      "cell_type": "code",
      "source": [
        "x = (5 == 5)  # Result: True\n"
      ],
      "metadata": {
        "id": "lQGmK83RMdct"
      },
      "execution_count": null,
      "outputs": []
    },
    {
      "cell_type": "markdown",
      "source": [
        "!= (Not equal to)"
      ],
      "metadata": {
        "id": "PFrlDy2wMeVd"
      }
    },
    {
      "cell_type": "code",
      "source": [
        "y = (3 != 4)  # Result: True\n"
      ],
      "metadata": {
        "id": "Mc9eY4SaMnTE"
      },
      "execution_count": null,
      "outputs": []
    },
    {
      "cell_type": "markdown",
      "source": [
        "> (Greater than)\n",
        "python\n",
        "Copy code\n"
      ],
      "metadata": {
        "id": "2Zt8pXs6MpRj"
      }
    },
    {
      "cell_type": "code",
      "source": [
        "z = (6 > 3)  # Result: True\n"
      ],
      "metadata": {
        "id": "FFUDuqx6M2a8"
      },
      "execution_count": null,
      "outputs": []
    },
    {
      "cell_type": "markdown",
      "source": [
        "< (Less than)"
      ],
      "metadata": {
        "id": "7k9__QpqM6CG"
      }
    },
    {
      "cell_type": "code",
      "source": [
        "a = (3 < 4)  # Result: True\n"
      ],
      "metadata": {
        "id": "mWrvsblANA0V"
      },
      "execution_count": null,
      "outputs": []
    },
    {
      "cell_type": "markdown",
      "source": [
        ">= (Greater than or equal to)"
      ],
      "metadata": {
        "id": "WRaHS-ySNIOL"
      }
    },
    {
      "cell_type": "code",
      "source": [
        "b = (5 >= 5)  # Result: True\n"
      ],
      "metadata": {
        "id": "t6nOq9UPNJqw"
      },
      "execution_count": null,
      "outputs": []
    },
    {
      "cell_type": "markdown",
      "source": [
        "<= (Less than or equal to)"
      ],
      "metadata": {
        "id": "8wF8vDi_NL-i"
      }
    },
    {
      "cell_type": "code",
      "source": [
        "c = (2 <= 4)  # Result: True\n"
      ],
      "metadata": {
        "id": "prma8tqcNP0B"
      },
      "execution_count": null,
      "outputs": []
    },
    {
      "cell_type": "markdown",
      "source": [
        "3. Logical Operators\n",
        "These are used to perform logical operations on Boolean values.\n",
        "\n",
        "and (Logical AND)\n",
        "python\n",
        "Copy code\n"
      ],
      "metadata": {
        "id": "Gk1NDBDVNS4g"
      }
    },
    {
      "cell_type": "code",
      "source": [
        "result = True and False  # Result: False\n"
      ],
      "metadata": {
        "id": "VyE6PbEUN1GU"
      },
      "execution_count": null,
      "outputs": []
    },
    {
      "cell_type": "markdown",
      "source": [
        "or (Logical OR)"
      ],
      "metadata": {
        "id": "jx5Xf9tZN7aM"
      }
    },
    {
      "cell_type": "code",
      "source": [
        "result = True or False  # Result: True\n"
      ],
      "metadata": {
        "id": "v9mmY7voN-p9"
      },
      "execution_count": null,
      "outputs": []
    },
    {
      "cell_type": "markdown",
      "source": [
        "not (Logical NOT)"
      ],
      "metadata": {
        "id": "5oJCs57vOHNi"
      }
    },
    {
      "cell_type": "code",
      "source": [
        "result = not True  # Result: False\n"
      ],
      "metadata": {
        "id": "zmLl-lGJOSh5"
      },
      "execution_count": null,
      "outputs": []
    },
    {
      "cell_type": "markdown",
      "source": [
        "4. Assignment Operators\n",
        "These operators assign values to variables, with some offering compound operations.\n",
        "\n",
        "= (Assigns value)"
      ],
      "metadata": {
        "id": "cuDQU49COW6i"
      }
    },
    {
      "cell_type": "code",
      "source": [
        "x = 5  # x is assigned the value 5\n"
      ],
      "metadata": {
        "id": "AZ5w-EiOOY5n"
      },
      "execution_count": null,
      "outputs": []
    },
    {
      "cell_type": "markdown",
      "source": [
        "+= (Addition and assignment)\n",
        "python\n",
        "Copy code\n"
      ],
      "metadata": {
        "id": "Q89-qTVoOhOC"
      }
    },
    {
      "cell_type": "code",
      "source": [
        "x += 3  # Equivalent to x = x + 3\n"
      ],
      "metadata": {
        "id": "vejd5hNuOn5T"
      },
      "execution_count": null,
      "outputs": []
    },
    {
      "cell_type": "markdown",
      "source": [
        "-= (Subtraction and assignment)"
      ],
      "metadata": {
        "id": "7Mg7vbV0Ou7f"
      }
    },
    {
      "cell_type": "code",
      "source": [
        "x -= 2  # Equivalent to x = x - 2\n"
      ],
      "metadata": {
        "id": "tdJvyK56OwT4"
      },
      "execution_count": null,
      "outputs": []
    },
    {
      "cell_type": "markdown",
      "source": [
        "Other operators in this category include *=, /=, //=, %=, and **=.\n",
        "5. Bitwise Operators\n",
        "These operators perform bit-level operations on integers.\n",
        "\n",
        "& (Bitwise AND)\n",
        "python\n",
        "Copy code\n"
      ],
      "metadata": {
        "id": "CJfZeWkFO5lf"
      }
    },
    {
      "cell_type": "code",
      "source": [
        "result = 5 & 3  # Result: 1 (binary AND)\n"
      ],
      "metadata": {
        "id": "xoncgW_4O81F"
      },
      "execution_count": null,
      "outputs": []
    },
    {
      "cell_type": "markdown",
      "source": [
        "| (Bitwise OR)"
      ],
      "metadata": {
        "id": "kXzSOcxePB_r"
      }
    },
    {
      "cell_type": "code",
      "source": [
        "result = 5 | 3  # Result: 7 (binary OR)\n"
      ],
      "metadata": {
        "id": "xGThMODSPDzY"
      },
      "execution_count": null,
      "outputs": []
    },
    {
      "cell_type": "markdown",
      "source": [
        "^ (Bitwise XOR)"
      ],
      "metadata": {
        "id": "o3grOnCNPGBu"
      }
    },
    {
      "cell_type": "code",
      "source": [
        "result = 5 ^ 3  # Result: 6 (binary XOR)\n"
      ],
      "metadata": {
        "id": "FjNsuwsSPKb3"
      },
      "execution_count": null,
      "outputs": []
    },
    {
      "cell_type": "markdown",
      "source": [
        "~ (Bitwise NOT)"
      ],
      "metadata": {
        "id": "u1CJ1q3_PMNM"
      }
    },
    {
      "cell_type": "code",
      "source": [
        "result = ~5  # Result: -6 (inverts all bits)\n"
      ],
      "metadata": {
        "id": "9kHUTwOHPS6K"
      },
      "execution_count": null,
      "outputs": []
    },
    {
      "cell_type": "markdown",
      "source": [
        "<< (Left shift)"
      ],
      "metadata": {
        "id": "I5sPICkNPU6j"
      }
    },
    {
      "cell_type": "code",
      "source": [
        "result = 5 << 1  # Result: 10 (shifts bits left by 1)\n"
      ],
      "metadata": {
        "id": "WUT_AO1YPZFJ"
      },
      "execution_count": null,
      "outputs": []
    },
    {
      "cell_type": "markdown",
      "source": [
        ">> (Right shift)"
      ],
      "metadata": {
        "id": "VVgzsX14Pa5o"
      }
    },
    {
      "cell_type": "code",
      "source": [
        "result = 5 >> 1  # Result: 2 (shifts bits right by 1)\n"
      ],
      "metadata": {
        "id": "rPYWfPknPfEI"
      },
      "execution_count": null,
      "outputs": []
    },
    {
      "cell_type": "markdown",
      "source": [
        "Other operators in this category include *=, /=, //=, %=, and **=.\n",
        "5. Bitwise Operators\n",
        "These operators perform bit-level operations on integers.\n",
        "\n",
        "& (Bitwise AND)\n",
        "python\n",
        "\n"
      ],
      "metadata": {
        "id": "b0S42qEbPhId"
      }
    },
    {
      "cell_type": "code",
      "source": [
        "result = 5 & 3  # Result: 1 (binary AND)\n"
      ],
      "metadata": {
        "id": "AW140qDRPnsz"
      },
      "execution_count": null,
      "outputs": []
    },
    {
      "cell_type": "markdown",
      "source": [
        "| (Bitwise OR)"
      ],
      "metadata": {
        "id": "69-P3TVgPp-6"
      }
    },
    {
      "cell_type": "code",
      "source": [
        "result = 5 | 3  # Result: 7 (binary OR)\n"
      ],
      "metadata": {
        "id": "V5zXx5qRPvg3"
      },
      "execution_count": null,
      "outputs": []
    },
    {
      "cell_type": "markdown",
      "source": [
        "^ (Bitwise XOR)"
      ],
      "metadata": {
        "id": "00vPkTaYPx29"
      }
    },
    {
      "cell_type": "code",
      "source": [
        "result = 5 ^ 3  # Result: 6 (binary XOR)\n"
      ],
      "metadata": {
        "id": "7QVowWY7P2Xf"
      },
      "execution_count": null,
      "outputs": []
    },
    {
      "cell_type": "markdown",
      "source": [
        "~ (Bitwise NOT)"
      ],
      "metadata": {
        "id": "Ebm94tD-P4Jv"
      }
    },
    {
      "cell_type": "code",
      "source": [
        "result = ~5  # Result: -6 (inverts all bits)\n"
      ],
      "metadata": {
        "id": "dQIPqr-uP8uG"
      },
      "execution_count": null,
      "outputs": []
    },
    {
      "cell_type": "markdown",
      "source": [
        "<< (Left shift)"
      ],
      "metadata": {
        "id": "QAGjDA7gP_Sn"
      }
    },
    {
      "cell_type": "code",
      "source": [
        "result = 5 << 1  # Result: 10 (shifts bits left by 1)\n"
      ],
      "metadata": {
        "id": "_YdD1J_HQDdP"
      },
      "execution_count": null,
      "outputs": []
    },
    {
      "cell_type": "markdown",
      "source": [
        ">> (Right shift)"
      ],
      "metadata": {
        "id": "ncbdEl4jQFR_"
      }
    },
    {
      "cell_type": "code",
      "source": [
        "result = 5 >> 1  # Result: 2 (shifts bits right by 1)\n"
      ],
      "metadata": {
        "id": "ym7GDmp-QLnH"
      },
      "execution_count": null,
      "outputs": []
    },
    {
      "cell_type": "markdown",
      "source": [
        "6. Identity Operators\n",
        "These are used to compare objects by memory location (identity).\n",
        "\n",
        "is"
      ],
      "metadata": {
        "id": "iXfnHW3TQOeJ"
      }
    },
    {
      "cell_type": "code",
      "source": [
        "x = [1, 2]\n",
        "y = x\n",
        "result = (x is y)  # Result: True (same object in memory)\n"
      ],
      "metadata": {
        "id": "m8Nq5Ov0QSux"
      },
      "execution_count": null,
      "outputs": []
    },
    {
      "cell_type": "markdown",
      "source": [
        "is not"
      ],
      "metadata": {
        "id": "SYnUTOAuQUlD"
      }
    },
    {
      "cell_type": "code",
      "source": [
        "result = (x is not [1, 2])  # Result: True (different objects in memory)\n"
      ],
      "metadata": {
        "id": "Q2vZvbsrQXed"
      },
      "execution_count": null,
      "outputs": []
    },
    {
      "cell_type": "markdown",
      "source": [
        "7. Membership Operators\n",
        "These operators test whether a value is a member of a sequence, like a list, tuple, or string.\n",
        "\n",
        "in"
      ],
      "metadata": {
        "id": "RxKoSeOfQatp"
      }
    },
    {
      "cell_type": "code",
      "source": [
        "result = 3 in [1, 2, 3]  # Result: True\n"
      ],
      "metadata": {
        "id": "ZQxy7nxfQgXm"
      },
      "execution_count": null,
      "outputs": []
    },
    {
      "cell_type": "markdown",
      "source": [
        "not in"
      ],
      "metadata": {
        "id": "n6n9Cs2ZQhRF"
      }
    },
    {
      "cell_type": "code",
      "source": [
        "result = 4 not in [1, 2, 3]  # Result: True\n"
      ],
      "metadata": {
        "id": "5ergT_1JQk57"
      },
      "execution_count": null,
      "outputs": []
    },
    {
      "cell_type": "markdown",
      "source": [
        "Example Combination Usage"
      ],
      "metadata": {
        "id": "FkJwpG1gQmtb"
      }
    },
    {
      "cell_type": "code",
      "source": [
        "x = 5\n",
        "y = 10\n",
        "result = (x < y) and (x + 2 == 7)  # Result: True\n"
      ],
      "metadata": {
        "id": "MLGC9j8UQqvJ"
      },
      "execution_count": null,
      "outputs": []
    },
    {
      "cell_type": "markdown",
      "source": [
        "These are some of the main types of operators in Python, each used in different scenarios to perform operations on data."
      ],
      "metadata": {
        "id": "TtoTCpmFQtbM"
      }
    },
    {
      "cell_type": "markdown",
      "source": [
        "Q.5 Explain the concept of type casting in Python with examples\n",
        "\n",
        "Type casting in Python refers to converting a value from one data type to another. Python provides several built-in functions to facilitate type casting, which can be useful for ensuring compatibility between different data types or for performing specific operations that require a particular type.\n",
        "\n",
        "There are two types of type casting in Python:\n",
        "\n",
        "1.Implicit Type Casting\n",
        "2.Explicit Type Casting\n",
        "\n",
        "1. Implicit Type Casting\n",
        "Python automatically converts one data type to another during an operation without any user intervention. This is typically done when converting a smaller data type to a larger data type to avoid data loss.\n",
        "\n",
        "Example:"
      ],
      "metadata": {
        "id": "gDtBcP1fXeiD"
      }
    },
    {
      "cell_type": "code",
      "source": [
        "# Implicit type casting\n",
        "num_int = 10         # Integer\n",
        "num_float = 5.5      # Float\n",
        "\n",
        "result = num_int + num_float  # Integer + Float\n",
        "print(result)        # Output: 15.5\n",
        "print(type(result))  # Output: <class 'float'>\n"
      ],
      "metadata": {
        "id": "u1KUJxiQXzTE"
      },
      "execution_count": null,
      "outputs": []
    },
    {
      "cell_type": "markdown",
      "source": [
        "In this example, Python automatically converts num_int (an integer) to a float before performing the addition, so the result is a float.\n",
        "\n",
        "2. Explicit Type Casting\n",
        "Explicit type casting requires manual intervention. You can convert an object from one data type to another using built-in functions such as int(), float(), str(), etc.\n",
        "\n",
        "Example:"
      ],
      "metadata": {
        "id": "h1LMCkk2X2UW"
      }
    },
    {
      "cell_type": "code",
      "source": [
        "# Explicit type casting\n",
        "num_str = \"123\"       # String\n",
        "num_int = int(num_str)  # Convert string to integer\n",
        "\n",
        "print(num_int)        # Output: 123\n",
        "print(type(num_int))  # Output: <class 'int'>\n",
        "\n",
        "# Another example\n",
        "num_float = 10.75\n",
        "num_int = int(num_float)  # Convert float to integer (truncation)\n",
        "print(num_int)            # Output: 10\n"
      ],
      "metadata": {
        "id": "CwfpPig-X5nw"
      },
      "execution_count": null,
      "outputs": []
    },
    {
      "cell_type": "markdown",
      "source": [
        "In this example, num_str is a string representing a number. Using int(), it is explicitly converted to an integer. Similarly, num_float is converted to an integer using int(), resulting in truncation (not rounding).\n",
        "\n",
        "Common Type Casting Functions\n",
        "int(): Converts a value to an integer.\n",
        "float(): Converts a value to a floating-point number.\n",
        "str(): Converts a value to a string.\n",
        "list(): Converts a value to a list.\n",
        "tuple(): Converts a value to a tuple.\n",
        "Example of Casting Between Data Structures:"
      ],
      "metadata": {
        "id": "D4MkbruEX6cW"
      }
    },
    {
      "cell_type": "code",
      "source": [
        "# Converting a list to a tuple\n",
        "list_val = [1, 2, 3]\n",
        "tuple_val = tuple(list_val)\n",
        "print(tuple_val)  # Output: (1, 2, 3)\n"
      ],
      "metadata": {
        "id": "t5TWwB_LYBqi"
      },
      "execution_count": null,
      "outputs": []
    },
    {
      "cell_type": "markdown",
      "source": [
        "Type casting is helpful when you need to manipulate data or perform operations between different types safely and accurately.\n",
        "\n",
        "\n",
        "\n",
        "\n",
        "\n",
        "\n"
      ],
      "metadata": {
        "id": "oUey41S2YCka"
      }
    },
    {
      "cell_type": "markdown",
      "source": [
        "Q.6 How do conditional statements work in Python? Illustrate with examples\n",
        "\n",
        "In Python, conditional statements allow you to control the flow of your program based on different conditions. These statements help execute a block of code if a specified condition is true. The primary conditional statements in Python are if, elif, and else.\n",
        "\n",
        "Here's how they work:\n",
        "\n",
        "1. if statement\n",
        "The if statement tests a condition. If the condition evaluates to True, the code inside the if block is executed.\n",
        "\n",
        "Example:"
      ],
      "metadata": {
        "id": "eHN2sr2UYG9o"
      }
    },
    {
      "cell_type": "code",
      "source": [
        "x = 10\n",
        "if x > 5:\n",
        "    print(\"x is greater than 5\")\n"
      ],
      "metadata": {
        "id": "abBo9JIKYd0n"
      },
      "execution_count": null,
      "outputs": []
    },
    {
      "cell_type": "markdown",
      "source": [
        "Output:"
      ],
      "metadata": {
        "id": "OQxIx0f-YgVh"
      }
    },
    {
      "cell_type": "code",
      "source": [
        "x is greater than 5\n"
      ],
      "metadata": {
        "id": "WHqVfFL1YhQw"
      },
      "execution_count": null,
      "outputs": []
    },
    {
      "cell_type": "markdown",
      "source": [
        "2. if-else statement\n",
        "The if-else statement adds an additional path that executes if the condition is False.\n",
        "\n",
        "Example:"
      ],
      "metadata": {
        "id": "WZFEcAq5Yji8"
      }
    },
    {
      "cell_type": "code",
      "source": [
        "x = 3\n",
        "if x > 5:\n",
        "    print(\"x is greater than 5\")\n",
        "else:\n",
        "    print(\"x is not greater than 5\")\n"
      ],
      "metadata": {
        "id": "ourZa1D4Yntw"
      },
      "execution_count": null,
      "outputs": []
    },
    {
      "cell_type": "markdown",
      "source": [
        "Output:"
      ],
      "metadata": {
        "id": "09Lzrl0EY1HU"
      }
    },
    {
      "cell_type": "code",
      "source": [
        "x is not greater than 5\n"
      ],
      "metadata": {
        "id": "GxnjiehCY6BK"
      },
      "execution_count": null,
      "outputs": []
    },
    {
      "cell_type": "markdown",
      "source": [
        "3. if-elif-else statement\n",
        "The elif (short for \"else if\") allows you to check multiple conditions sequentially. Once a condition is True, the associated block of code runs, and the rest of the elif or else blocks are skipped.\n",
        "\n",
        "Example:"
      ],
      "metadata": {
        "id": "323HZ_3bYof2"
      }
    },
    {
      "cell_type": "code",
      "source": [
        "x = 10\n",
        "if x < 5:\n",
        "    print(\"x is less than 5\")\n",
        "elif x == 5:\n",
        "    print(\"x is equal to 5\")\n",
        "else:\n",
        "    print(\"x is greater than 5\")\n"
      ],
      "metadata": {
        "id": "4KtHH3joYwD4"
      },
      "execution_count": null,
      "outputs": []
    },
    {
      "cell_type": "markdown",
      "source": [
        "Output:"
      ],
      "metadata": {
        "id": "KARjiYMaY_O2"
      }
    },
    {
      "cell_type": "code",
      "source": [
        "x is greater than 5\n"
      ],
      "metadata": {
        "id": "qZcxIQ9fZAkd"
      },
      "execution_count": null,
      "outputs": []
    },
    {
      "cell_type": "markdown",
      "source": [
        "4. Using multiple conditions\n",
        "You can also combine conditions using logical operators like and, or, and not.\n",
        "\n",
        "Example:"
      ],
      "metadata": {
        "id": "uqF_z8uWZCfE"
      }
    },
    {
      "cell_type": "code",
      "source": [
        "x = 7\n",
        "if x > 5 and x < 10:\n",
        "    print(\"x is between 5 and 10\")\n",
        "elif x == 10:\n",
        "    print(\"x is exactly 10\")\n",
        "else:\n",
        "    print(\"x is not in the range\")\n"
      ],
      "metadata": {
        "id": "5iajxFy0ZEhq"
      },
      "execution_count": null,
      "outputs": []
    },
    {
      "cell_type": "markdown",
      "source": [
        "Output:"
      ],
      "metadata": {
        "id": "rpSlKgzFZHGY"
      }
    },
    {
      "cell_type": "code",
      "source": [
        "x is between 5 and 10\n"
      ],
      "metadata": {
        "id": "ukJcoriqZOlY"
      },
      "execution_count": null,
      "outputs": []
    },
    {
      "cell_type": "markdown",
      "source": [
        "5. Nested conditional statements\n",
        "Conditional statements can also be nested within each other.\n",
        "\n",
        "Example:"
      ],
      "metadata": {
        "id": "KYzL9pNSZSOz"
      }
    },
    {
      "cell_type": "code",
      "source": [
        "x = 8\n",
        "if x > 5:\n",
        "    print(\"x is greater than 5\")\n",
        "    if x % 2 == 0:\n",
        "        print(\"x is even\")\n",
        "    else:\n",
        "        print(\"x is odd\")\n",
        "else:\n",
        "    print(\"x is 5 or less\")\n"
      ],
      "metadata": {
        "id": "IYZkJ9zyZarN"
      },
      "execution_count": null,
      "outputs": []
    },
    {
      "cell_type": "markdown",
      "source": [
        "Output:"
      ],
      "metadata": {
        "id": "rp3S0GY2ZeTJ"
      }
    },
    {
      "cell_type": "code",
      "source": [
        "x is greater than 5\n",
        "x is even\n"
      ],
      "metadata": {
        "id": "D0fe9ueZZhTN"
      },
      "execution_count": null,
      "outputs": []
    },
    {
      "cell_type": "markdown",
      "source": [
        "Summary\n",
        "if checks a condition.\n",
        "elif provides more conditions to check if the previous ones were not True.\n",
        "else runs when none of the previous conditions are True.\n",
        "This basic structure allows you to create more complex decision-making in Python code."
      ],
      "metadata": {
        "id": "QLcg2dJsZm3L"
      }
    },
    {
      "cell_type": "markdown",
      "source": [
        "Q.6 Describe the different types of loops in Python and their use cases with examples.\n",
        "\n",
        "Python offers three main types of loops for iteration: for, while, and nested loops. Each type has its own use cases and can help solve different types of problems efficiently.\n",
        "\n",
        "1. for Loop\n",
        "The for loop is used for iterating over a sequence (such as a list, tuple, dictionary, set, or string) or any iterable object. The loop runs through each element in the sequence, executing the block of code within it.\n",
        "\n",
        "Example 1: Iterating over a list\n",
        "\n"
      ],
      "metadata": {
        "id": "X_dmBMyoZ_qU"
      }
    },
    {
      "cell_type": "code",
      "source": [
        "fruits = [\"apple\", \"banana\", \"cherry\"]\n",
        "for fruit in fruits:\n",
        "    print(fruit)\n"
      ],
      "metadata": {
        "id": "kQxjekdWaK1D"
      },
      "execution_count": null,
      "outputs": []
    },
    {
      "cell_type": "markdown",
      "source": [
        "Output:"
      ],
      "metadata": {
        "id": "AlwdmgEzaN0X"
      }
    },
    {
      "cell_type": "code",
      "source": [
        "apple\n",
        "banana\n",
        "cherry\n"
      ],
      "metadata": {
        "id": "Z1FKy_29aOrL"
      },
      "execution_count": null,
      "outputs": []
    },
    {
      "cell_type": "markdown",
      "source": [
        "Use Case: The for loop is ideal when you know the number of iterations in advance or need to traverse a list or collection.\n",
        "\n",
        "Example 2: Using range() function"
      ],
      "metadata": {
        "id": "_6M_jy7-aUdj"
      }
    },
    {
      "cell_type": "code",
      "source": [
        "for i in range(5):  # Generates numbers from 0 to 4\n",
        "    print(i)\n"
      ],
      "metadata": {
        "id": "5q7zJlbPaVvI"
      },
      "execution_count": null,
      "outputs": []
    },
    {
      "cell_type": "markdown",
      "source": [
        "\n",
        "Python offers three main types of loops for iteration: for, while, and nested loops. Each type has its own use cases and can help solve different types of problems efficiently.\n",
        "\n",
        "1. for Loop\n",
        "The for loop is used for iterating over a sequence (such as a list, tuple, dictionary, set, or string) or any iterable object. The loop runs through each element in the sequence, executing the block of code within it.\n",
        "\n",
        "Example 1: Iterating over a list"
      ],
      "metadata": {
        "id": "-QY0uJ7naX5e"
      }
    },
    {
      "cell_type": "code",
      "source": [
        "fruits = [\"apple\", \"banana\", \"cherry\"]\n",
        "for fruit in fruits:\n",
        "    print(fruit)\n"
      ],
      "metadata": {
        "id": "a7xBEeNHasDc"
      },
      "execution_count": null,
      "outputs": []
    },
    {
      "cell_type": "markdown",
      "source": [
        "Output:"
      ],
      "metadata": {
        "id": "pWJbKSZhatIA"
      }
    },
    {
      "cell_type": "code",
      "source": [
        "apple\n",
        "banana\n",
        "cherry\n"
      ],
      "metadata": {
        "id": "qZ8zYCdzawKH"
      },
      "execution_count": null,
      "outputs": []
    },
    {
      "cell_type": "markdown",
      "source": [
        "Use Case: The for loop is ideal when you know the number of iterations in advance or need to traverse a list or collection.\n",
        "\n",
        "Example 2: Using range() function"
      ],
      "metadata": {
        "id": "1PKnTPGRayCD"
      }
    },
    {
      "cell_type": "code",
      "source": [
        "for i in range(5):  # Generates numbers from 0 to 4\n",
        "    print(i)\n"
      ],
      "metadata": {
        "id": "BlzqNiyUa0tu"
      },
      "execution_count": null,
      "outputs": []
    },
    {
      "cell_type": "markdown",
      "source": [
        "2. while Loop\n",
        "The while loop continues to execute a block of code as long as a specified condition is True. It is useful for repeated iterations when the number of iterations is not known in advance and relies on a condition to stop execution.\n",
        "\n",
        "Example: Using a while loop"
      ],
      "metadata": {
        "id": "QwI9lrj_bB89"
      }
    },
    {
      "cell_type": "code",
      "source": [
        "count = 0\n",
        "while count < 5:\n",
        "    print(count)\n",
        "    count += 1\n"
      ],
      "metadata": {
        "id": "w3frCgwRbD1M"
      },
      "execution_count": null,
      "outputs": []
    },
    {
      "cell_type": "markdown",
      "source": [
        "Output:"
      ],
      "metadata": {
        "id": "aEdHDY8YbGMj"
      }
    },
    {
      "cell_type": "code",
      "source": [
        "0\n",
        "1\n",
        "2\n",
        "3\n",
        "4\n"
      ],
      "metadata": {
        "id": "ZbO8dq2LbIju"
      },
      "execution_count": null,
      "outputs": []
    },
    {
      "cell_type": "markdown",
      "source": [
        "Use Case: The while loop is typically used for scenarios where you need to wait for a condition to be met, such as reading data until a user input or processing data until a particular state is reached.\n",
        "\n",
        "3. Nested Loops\n",
        "Loops can be nested inside each other, which means you can have one loop inside another. Nested loops are often used for iterating over multi-dimensional data structures such as matrices.\n",
        "\n",
        "Example: Using a nested for loop"
      ],
      "metadata": {
        "id": "VNgSKC5_bLO0"
      }
    },
    {
      "cell_type": "code",
      "source": [
        "for i in range(3):  # Outer loop\n",
        "    for j in range(2):  # Inner loop\n",
        "        print(f\"i = {i}, j = {j}\")\n"
      ],
      "metadata": {
        "id": "tQ1kDopXbP8S"
      },
      "execution_count": null,
      "outputs": []
    },
    {
      "cell_type": "markdown",
      "source": [
        "Output:"
      ],
      "metadata": {
        "id": "mbcPnwgXbSJO"
      }
    },
    {
      "cell_type": "code",
      "source": [
        "i = 0, j = 0\n",
        "i = 0, j = 1\n",
        "i = 1, j = 0\n",
        "i = 1, j = 1\n",
        "i = 2, j = 0\n",
        "i = 2, j = 1\n"
      ],
      "metadata": {
        "id": "jpFoH6SabU02"
      },
      "execution_count": null,
      "outputs": []
    },
    {
      "cell_type": "markdown",
      "source": [
        "Use Case: Nested loops are helpful when dealing with two-dimensional structures like matrices or grids.\n",
        "\n",
        "4. Loop Control Statements\n",
        "break Statement: Exits the loop prematurely when a condition is met. Example"
      ],
      "metadata": {
        "id": "olDjhC8-bWy_"
      }
    },
    {
      "cell_type": "code",
      "source": [
        "for i in range(5):\n",
        "    if i == 3:\n",
        "        break\n",
        "    print(i)\n"
      ],
      "metadata": {
        "id": "cXjbT0XHbbdC"
      },
      "execution_count": null,
      "outputs": []
    },
    {
      "cell_type": "markdown",
      "source": [
        "Output:"
      ],
      "metadata": {
        "id": "t2VDpk_GbdtQ"
      }
    },
    {
      "cell_type": "code",
      "source": [
        "0\n",
        "1\n",
        "2\n"
      ],
      "metadata": {
        "id": "_dvLpDUgbhAQ"
      },
      "execution_count": null,
      "outputs": []
    },
    {
      "cell_type": "markdown",
      "source": [
        "continue Statement: Skips the rest of the code inside the loop for the current iteration and moves to the next iteration. Example:"
      ],
      "metadata": {
        "id": "X162bo5Abj1C"
      }
    },
    {
      "cell_type": "code",
      "source": [
        "for i in range(5):\n",
        "    if i == 3:\n",
        "        continue\n",
        "    print(i)\n"
      ],
      "metadata": {
        "id": "4e-dW3xGbn3S"
      },
      "execution_count": null,
      "outputs": []
    },
    {
      "cell_type": "markdown",
      "source": [
        "Output:"
      ],
      "metadata": {
        "id": "ebUmdC8vbqQV"
      }
    },
    {
      "cell_type": "code",
      "source": [
        "0\n",
        "1\n",
        "2\n",
        "4\n"
      ],
      "metadata": {
        "id": "jw3UtrNHbtbY"
      },
      "execution_count": null,
      "outputs": []
    },
    {
      "cell_type": "markdown",
      "source": [
        "pass Statement: Acts as a placeholder for future code; does nothing when executed. Example:"
      ],
      "metadata": {
        "id": "p-qJE-_IbuMZ"
      }
    },
    {
      "cell_type": "code",
      "source": [
        "for i in range(5):\n",
        "    if i == 3:\n",
        "        pass  # Placeholder for future code\n",
        "    print(i)\n"
      ],
      "metadata": {
        "id": "u1SUQbR8byc8"
      },
      "execution_count": null,
      "outputs": []
    },
    {
      "cell_type": "markdown",
      "source": [
        "Output:"
      ],
      "metadata": {
        "id": "Lhku-y9bb1GR"
      }
    },
    {
      "cell_type": "code",
      "source": [
        "0\n",
        "1\n",
        "2\n",
        "3\n",
        "4\n"
      ],
      "metadata": {
        "id": "KmS45Bbgb4l9"
      },
      "execution_count": null,
      "outputs": []
    },
    {
      "cell_type": "markdown",
      "source": [
        "Summary\n",
        "for Loop: Best for iterating over known sequences.\n",
        "while Loop: Suitable for loops that depend on a condition.\n",
        "Nested Loops: Useful for multi-dimensional data traversal.\n",
        "Control Statements (break, continue, pass): Fine-tune loop behavior for specific needs."
      ],
      "metadata": {
        "id": "V6lqvwc-cWQu"
      }
    }
  ]
}